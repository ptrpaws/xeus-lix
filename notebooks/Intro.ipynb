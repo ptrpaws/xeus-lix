{
 "cells": [
  {
   "cell_type": "markdown",
   "id": "intro-markdown",
   "metadata": {},
   "source": [
    "# welcome to the native nix jupyter kernel\n",
    "\n",
    "this notebook shows what the `xeus-lix` kernel can do. it's a c++ jupyter kernel for the nix language, powered by the lix evaluator. you can run nix code, manage your environment, build things, and use the shell, all inside a notebook."
   ]
  },
  {
   "cell_type": "markdown",
   "id": "basics-markdown",
   "metadata": {},
   "source": [
    "## 1. basic nix expressions\n",
    "\n",
    "you can run multiple standard nix expressions in one cell"
   ]
  },
  {
   "cell_type": "code",
   "execution_count": 1,
   "id": "f0ba079f-33f0-4388-8ba8-4fec21245b23",
   "metadata": {},
   "outputs": [
    {
     "name": "stdout",
     "output_type": "stream",
     "text": [
      "\u001b[36;1m500\u001b[0m\n",
      "\u001b[35;1m\"Hello, Jupyter!\"\u001b[0m\n",
      "[\n",
      "  \u001b[36;1m1\u001b[0m\n",
      "  \u001b[36;1m2\u001b[0m\n",
      "  \u001b[36;1m3\u001b[0m\n",
      "  \u001b[36;1m4\u001b[0m\n",
      "]\n"
     ]
    },
    {
     "data": {
      "text/plain": [
       "\u001b[35;1m\"Welcome to the Nix Kernel!\"\u001b[0m"
      ]
     },
     "execution_count": 1,
     "metadata": {},
     "output_type": "execute_result"
    }
   ],
   "source": [
    "100 * 5\n",
    "\n",
    "\"Hello, \" + \"Jupyter!\"\n",
    "\n",
    "[ 1 2 3 4 ]\n",
    "\n",
    "rec {\n",
    "  x = \"Nix\";\n",
    "  y = \"Kernel\";\n",
    "  greeting = \"Welcome to the ${x} ${y}!\";\n",
    "}.greeting"
   ]
  },
  {
   "cell_type": "markdown",
   "id": "vars-markdown",
   "metadata": {},
   "source": [
    "## 2. variables and functions\n",
    "\n",
    "the kernel keeps state between cells. you can define variables and functions and use them later. the syntax is the same as the normal nix repl."
   ]
  },
  {
   "cell_type": "code",
   "execution_count": 2,
   "id": "9daaa58d-b3c6-4d13-bdd2-1847124a25d4",
   "metadata": {},
   "outputs": [],
   "source": [
    "mySet = { a = 10; b = 20; }"
   ]
  },
  {
   "cell_type": "code",
   "execution_count": 3,
   "id": "eb7f4ab4-eb3c-4fa7-9b6a-0e27a9399ef8",
   "metadata": {},
   "outputs": [
    {
     "data": {
      "text/plain": [
       "\u001b[36;1m30\u001b[0m"
      ]
     },
     "execution_count": 3,
     "metadata": {},
     "output_type": "execute_result"
    }
   ],
   "source": [
    "mySet.a + mySet.b"
   ]
  },
  {
   "cell_type": "code",
   "execution_count": 4,
   "id": "add-func-def",
   "metadata": {},
   "outputs": [],
   "source": [
    "add = x: y: x + y"
   ]
  },
  {
   "cell_type": "code",
   "execution_count": 5,
   "id": "add-func-call",
   "metadata": {},
   "outputs": [
    {
     "data": {
      "text/plain": [
       "\u001b[36;1m20\u001b[0m"
      ]
     },
     "execution_count": 5,
     "metadata": {},
     "output_type": "execute_result"
    }
   ],
   "source": [
    "add 5 15"
   ]
  },
  {
   "cell_type": "markdown",
   "id": "repl-markdown",
   "metadata": {},
   "source": [
    "## 3. interacting with the kernel (repl commands)\n",
    "\n",
    "the kernel supports repl-style commands that start with a colon (`:`). these help you look at your environment and get docs."
   ]
  },
  {
   "cell_type": "code",
   "execution_count": 6,
   "id": "b3d848c6-f253-4231-a29d-2688c6208548",
   "metadata": {},
   "outputs": [
    {
     "data": {
      "text/markdown": [
       "The following commands are available:\n",
       "\n",
       "```\n",
       "  <expr>                       Evaluate and print expression\n",
       "  <x> = <expr>                 Bind expression to variable\n",
       "  :a, :add <expr>              Add attributes from resulting set to scope\n",
       "  :b <expr>                    Build a derivation\n",
       "  :bl <expr>                   Build a derivation, creating GC roots\n",
       "                               in the working directory\n",
       "  :env                         Show variables in the current scope\n",
       "  :doc <expr>                  Show documentation for the provided value\n",
       "  :l, :load <path>             Load Nix expression and add it to scope\n",
       "  :lf, :load-flake <ref>       Load Nix flake and add it to scope\n",
       "  :p, :print <expr>            Evaluate and print expression recursively\n",
       "                               Strings are printed directly, without escaping.\n",
       "  :r, :reload                  Reload all files\n",
       "  :t <expr>                    Describe result of evaluation\n",
       "  :log <expr | .drv path>      Show logs for a derivation\n",
       "  :te, :trace-enable [bool]    Enable, disable or toggle showing traces for\n",
       "                               errors\n",
       "  :?, :help                    Brings up this help menu\n",
       "```\n"
      ]
     },
     "metadata": {},
     "output_type": "display_data"
    }
   ],
   "source": [
    ":help"
   ]
  },
  {
   "cell_type": "code",
   "execution_count": 7,
   "id": "8a6ebbd9-05d4-4ff4-b328-80aced2301c2",
   "metadata": {},
   "outputs": [
    {
     "name": "stdout",
     "output_type": "stream",
     "text": [
      "a function\n"
     ]
    }
   ],
   "source": [
    ":t add"
   ]
  },
  {
   "cell_type": "code",
   "execution_count": 8,
   "id": "a3100694-07dc-48cb-93df-15793817d3e1",
   "metadata": {},
   "outputs": [
    {
     "data": {
      "text/markdown": [
       "**Synopsis:** `builtins.map` *f* *list*\n",
       "\n",
       "Apply the function *f* to each element in the list *list*. For\n",
       "example,\n",
       "\n",
       "```nix\n",
       "map (x: \"foo\" + x) [ \"bar\" \"bla\" \"abc\" ]\n",
       "```\n",
       "\n",
       "evaluates to `[ \"foobar\" \"foobla\" \"fooabc\" ]`.\n"
      ]
     },
     "metadata": {},
     "output_type": "display_data"
    }
   ],
   "source": [
    ":doc builtins.map"
   ]
  },
  {
   "cell_type": "code",
   "execution_count": 9,
   "id": "3c0a47be-41f3-4032-97b0-f328bcc1c35c",
   "metadata": {},
   "outputs": [
    {
     "name": "stdout",
     "output_type": "stream",
     "text": [
      "Current scope variables:\n",
      "  add\n",
      "  mySet\n",
      "\n",
      "(Note: This is a simplified view of the top-level scope)\n"
     ]
    }
   ],
   "source": [
    "# Display all user-accessible variables in the current environment\n",
    ":env"
   ]
  },
  {
   "cell_type": "markdown",
   "id": "shell-markdown",
   "metadata": {},
   "source": [
    "## 4. shell and filesystem interaction\n",
    "\n",
    "you can run any shell command by starting it with `!`. the `:load` command lets you bring in definitions from other `.nix` files."
   ]
  },
  {
   "cell_type": "code",
   "execution_count": 10,
   "id": "b09b6fe6-3752-4b6e-87f8-e5dd55ef4cd5",
   "metadata": {},
   "outputs": [
    {
     "name": "stdout",
     "output_type": "stream",
     "text": [
      "Hello from the shell running inside the Nix kernel!\n",
      "Sun Jul 13 15:13:28 CEST 2025\n"
     ]
    }
   ],
   "source": [
    "!echo \"Hello from the shell running inside the Nix kernel!\"\n",
    "!date"
   ]
  },
  {
   "cell_type": "code",
   "execution_count": 11,
   "id": "d4a445e7-db4c-42db-9445-7e4ac369f604",
   "metadata": {},
   "outputs": [
    {
     "name": "stdout",
     "output_type": "stream",
     "text": [
      "Added 2 variables.\n"
     ]
    }
   ],
   "source": [
    "# Create a file named 'test.nix' to load\n",
    "!echo '{ message = \"hello from file\"; value = 42; }' > test.nix\n",
    "\n",
    ":load ./test.nix"
   ]
  },
  {
   "cell_type": "code",
   "execution_count": 12,
   "id": "bac3f00b-13cb-4250-b230-af58562f7983",
   "metadata": {},
   "outputs": [
    {
     "data": {
      "text/plain": [
       "\u001b[35;1m\"The message is: 'hello from file' and the value is: 42\"\u001b[0m"
      ]
     },
     "execution_count": 12,
     "metadata": {},
     "output_type": "execute_result"
    }
   ],
   "source": [
    "\"The message is: '${message}' and the value is: ${toString value}\""
   ]
  },
  {
   "cell_type": "markdown",
   "id": "nixpkgs-markdown",
   "metadata": {},
   "source": [
    "## 5. managing nixpkgs and flakes\n",
    "\n",
    "loading all of `nixpkgs` or other flakes is easy."
   ]
  },
  {
   "cell_type": "code",
   "execution_count": 13,
   "id": "f1b357c7-b898-41a1-a317-bf859047845d",
   "metadata": {},
   "outputs": [
    {
     "name": "stdout",
     "output_type": "stream",
     "text": [
      "Added 25104 variables.\n"
     ]
    },
    {
     "data": {
      "text/plain": [
       "\u001b[35;1m\"25.11pre824823.c860cf0b3a08\"\u001b[0m"
      ]
     },
     "execution_count": 13,
     "metadata": {},
     "output_type": "execute_result"
    }
   ],
   "source": [
    "# first, load nixpkgs into the scope\n",
    ":l <nixpkgs>\n",
    "\n",
    "# now, use a 'with' statement\n",
    "with pkgs; lib.version"
   ]
  },
  {
   "cell_type": "code",
   "execution_count": 14,
   "id": "caaa1c35-3dd9-4d65-b66b-e538141c08c6",
   "metadata": {},
   "outputs": [
    {
     "name": "stdout",
     "output_type": "stream",
     "text": [
      "fetching github input 'github:NixOS/nixpkgs/nixpkgs-unstable'\n",
      "Added 17 variables.\n"
     ]
    },
    {
     "data": {
      "text/plain": [
       "\u001b[35;1m\"25.11.20250708.2a21304\"\u001b[0m"
      ]
     },
     "execution_count": 14,
     "metadata": {},
     "output_type": "execute_result"
    }
   ],
   "source": [
    "# load the official nixpkgs flake\n",
    ":lf nixpkgs\n",
    "\n",
    "lib.version"
   ]
  },
  {
   "cell_type": "markdown",
   "id": "derivations-markdown",
   "metadata": {},
   "source": [
    "## 6. building derivations\n",
    "\n",
    "you can build derivations right away with the `:b` (build) and `:bl` (build local) commands. you can see the build logs with `:log`"
   ]
  },
  {
   "cell_type": "code",
   "execution_count": 15,
   "id": "03721af4-b71c-44c5-ac01-c4ad80a0c7dd",
   "metadata": {},
   "outputs": [
    {
     "name": "stdout",
     "output_type": "stream",
     "text": [
      "Building /nix/store/pmi91q85ksab7g1d7r3kd4hsjp5zjkll-hello.drv\n",
      "\n",
      "This derivation produced the following outputs:\n",
      "  out -> /nix/store/zxlhc27dzg2zixrd8hr4rivirr1gdxll-hello\n"
     ]
    }
   ],
   "source": [
    "# define a simple derivation\n",
    "helloDerivation = pkgs.runCommand \"hello\" {} ''\n",
    "  mkdir $out\n",
    "  echo \"Hello from a Nix derivation!\" > $out/hello.txt\n",
    "''\n",
    "\n",
    "# build it using :b\n",
    ":b helloDerivation"
   ]
  },
  {
   "cell_type": "code",
   "execution_count": 16,
   "id": "f2ecbea4-15d6-4fde-8c77-63a5a713c5e0",
   "metadata": {},
   "outputs": [
    {
     "name": "stdout",
     "output_type": "stream",
     "text": [
      "Building /nix/store/hcflzfx9yb7019ldx7rc67jvdvjfmbrs-my-local-build.drv\n",
      "\n",
      "This derivation produced the following outputs:\n",
      "  ./result-out -> /nix/store/g10kvyyxzlxhmp98g6q735fqxv64bzp2-my-local-build\n"
     ]
    }
   ],
   "source": [
    "# define another derivation\n",
    "localDrv = pkgs.runCommand \"my-local-build\" {} ''\n",
    "  mkdir -p $out/bin\n",
    "  echo \"#!/bin/sh\" > $out/bin/greet\n",
    "  echo \"echo Hello from the :bl command!\" >> $out/bin/greet\n",
    "  chmod +x $out/bin/greet\n",
    "'';\n",
    "\n",
    "# build it and create a local symlink using :bl\n",
    ":bl localDrv"
   ]
  },
  {
   "cell_type": "code",
   "execution_count": 17,
   "id": "e971d059-1129-4de6-99b7-19e0cc783ffc",
   "metadata": {},
   "outputs": [
    {
     "name": "stdout",
     "output_type": "stream",
     "text": [
      "lrwxr-xr-x 1 ellie staff 58 Jul 13 15:13 result-out -> /nix/store/g10kvyyxzlxhmp98g6q735fqxv64bzp2-my-local-build\n",
      "Hello from the :bl command!\n"
     ]
    }
   ],
   "source": [
    "# check for the 'result-out' symlink in the current directory\n",
    "!ls -l result-out\n",
    "\n",
    "# execute the script from the build output via the symlink\n",
    "!./result-out/bin/greet"
   ]
  },
  {
   "cell_type": "code",
   "execution_count": 18,
   "id": "d3e71fc1-06e2-4d22-a873-e9071b6a5b60",
   "metadata": {},
   "outputs": [
    {
     "name": "stdout",
     "output_type": "stream",
     "text": [
      "Log for /nix/store/fw0f9kkiwv5bayh09d9bdzy30s1khb3r-neofetch-unstable-2021-12-10.drv from https://cache.nixos.org:\n",
      "Running phase: unpackPhase\n",
      "unpacking source archive /nix/store/lanzxvdspljq3frjc67i16rfiig7p1aa-source\n",
      "source root is source\n",
      "Running phase: patchPhase\n",
      "applying patch /nix/store/l2ypxlh4kc58qzi4zrvjry9516n4kmbm-avoid_overwriting_gio_extra_modules_env_var.patch\n",
      "patching file neofetch\n",
      "applying patch /nix/store/qglbm55x5jk9va9l74ky0203rk3lkkxi-update_old_nixos_logo.patch\n",
      "patching file neofetch\n",
      "applying patch /nix/store/7n3jbh84r1q7gb46cijlpx4x53nq4mp8-improve_detect_nixos_version.patch\n",
      "patching file neofetch\n",
      "patching script interpreter paths in neofetch\n",
      "neofetch: interpreter directive changed from \"#!/usr/bin/env bash\" to \"/nix/store/nqh4lv0w7n7cw7n8vvn2gfzv804y4hk6-bash-interactive-5.2p37/bin/bash\"\n",
      "Running phase: updateAutotoolsGnuConfigScriptsPhase\n",
      "Running phase: configurePhase\n",
      "no configure script, doing nothing\n",
      "Running phase: buildPhase\n",
      "build flags: SHELL=/nix/store/nravshvfviv75plf26nwfwzg8ldl3z8s-bash-5.2p37/bin/bash PREFIX=/nix/store/xlhia08m80l27wv4i54zyyyxjpzx8lyg-neofetch-unstable-2021-12-10 SYSCONFDIR=/nix/store/xlhia08m80l27wv4i54zyyyxjpzx8lyg-neofetch-unstable-2021-12-10/etc\n",
      "Run 'make install' to install Neofetch.\n",
      "Running phase: installPhase\n",
      "install flags: SHELL=/nix/store/nravshvfviv75plf26nwfwzg8ldl3z8s-bash-5.2p37/bin/bash PREFIX=/nix/store/xlhia08m80l27wv4i54zyyyxjpzx8lyg-neofetch-unstable-2021-12-10 SYSCONFDIR=/nix/store/xlhia08m80l27wv4i54zyyyxjpzx8lyg-neofetch-unstable-2021-12-10/etc pkgconfigdir=/nix/store/xlhia08m80l27wv4i54zyyyxjpzx8lyg-neofetch-unstable-2021-12-10/lib/pkgconfig m4datadir=/nix/store/xlhia08m80l27wv4i54zyyyxjpzx8lyg-neofetch-unstable-2021-12-10/share/aclocal aclocaldir=/nix/store/xlhia08m80l27wv4i54zyyyxjpzx8lyg-neofetch-unstable-2021-12-10/share/aclocal install\n",
      "Running phase: fixupPhase\n",
      "Moving /nix/store/xlhia08m80l27wv4i54zyyyxjpzx8lyg-neofetch-unstable-2021-12-10/share/man to /nix/store/k76vs8m8wpjr1hjl9zvp572ijr1rb7b0-neofetch-unstable-2021-12-10-man/share/man\n",
      "Removing empty /nix/store/xlhia08m80l27wv4i54zyyyxjpzx8lyg-neofetch-unstable-2021-12-10/share/ and (possibly) its parents\n",
      "checking for references to /private/tmp/nix-build-neofetch-unstable-2021-12-10.drv-0/ in /nix/store/xlhia08m80l27wv4i54zyyyxjpzx8lyg-neofetch-unstable-2021-12-10...\n",
      "patching script interpreter paths in /nix/store/xlhia08m80l27wv4i54zyyyxjpzx8lyg-neofetch-unstable-2021-12-10\n",
      "checking for references to /private/tmp/nix-build-neofetch-unstable-2021-12-10.drv-0/ in /nix/store/k76vs8m8wpjr1hjl9zvp572ijr1rb7b0-neofetch-unstable-2021-12-10-man...\n",
      "gzipping man pages under /nix/store/k76vs8m8wpjr1hjl9zvp572ijr1rb7b0-neofetch-unstable-2021-12-10-man/share/man/\n",
      "patching script interpreter paths in /nix/store/k76vs8m8wpjr1hjl9zvp572ijr1rb7b0-neofetch-unstable-2021-12-10-man\n"
     ]
    }
   ],
   "source": [
    "# get the build log for a package from nixpkgs\n",
    ":log pkgs.neofetch"
   ]
  },
  {
   "cell_type": "markdown",
   "id": "advanced-markdown",
   "metadata": {},
   "source": [
    "## 7. advanced features\n",
    "\n",
    "the kernel also has pretty-printing, debugging with `trace`, and rich display output."
   ]
  },
  {
   "cell_type": "code",
   "execution_count": 19,
   "id": "2544b8df-bfb2-421d-8a95-109bc89e57b9",
   "metadata": {},
   "outputs": [
    {
     "name": "stderr",
     "output_type": "stream",
     "text": [
      "trace: Hello World\n"
     ]
    },
    {
     "data": {
      "text/plain": [
       "\u001b[36;1m123\u001b[0m"
      ]
     },
     "execution_count": 19,
     "metadata": {},
     "output_type": "execute_result"
    }
   ],
   "source": [
    "builtins.trace \"Hello World\" 123"
   ]
  },
  {
   "cell_type": "code",
   "execution_count": 20,
   "id": "33117cf8-3fa0-4db9-bcc7-d88eb436b054",
   "metadata": {},
   "outputs": [],
   "source": [
    "# define a nested attribute set with a derivation (thunk)\n",
    "myNestedSet = {\n",
    "  a = 1;\n",
    "  b = {\n",
    "    c = \"hello\";\n",
    "    d = [ 1 2 { e = \"deep\"; } ];\n",
    "  };\n",
    "  f = pkgs.hello; # this is a thunk that should not be deeply evaluated\n",
    "}"
   ]
  },
  {
   "cell_type": "code",
   "execution_count": 21,
   "id": "a4fe83e4-85e0-40d4-af0e-b8ce052d17e2",
   "metadata": {},
   "outputs": [
    {
     "name": "stdout",
     "output_type": "stream",
     "text": [
      "{\n",
      "  a = \u001b[36;1m1\u001b[0m;\n",
      "  b = {\n",
      "    c = \u001b[35;1m\"hello\"\u001b[0m;\n",
      "    d = [\n",
      "      \u001b[36;1m1\u001b[0m\n",
      "      \u001b[36;1m2\u001b[0m\n",
      "      { e = \u001b[35;1m\"deep\"\u001b[0m; }\n",
      "    ];\n",
      "  };\n",
      "  f = \u001b[32;1m«derivation /nix/store/x6p76aiji2i202jdalv98ha8qkrqv9kv-hello-2.12.2.drv»\u001b[0m;\n",
      "}\n"
     ]
    }
   ],
   "source": [
    "# use :p to recursively print the entire structure without forcing thunks\n",
    ":p myNestedSet"
   ]
  },
  {
   "cell_type": "code",
   "execution_count": 22,
   "id": "e18f53b5-768b-41bd-aa7e-24d54ccddb51",
   "metadata": {},
   "outputs": [
    {
     "data": {
      "image/png": "[encoded data removed]",
      "text/plain": [
       "A tiny 8x8 red and gray PNG image."
      ]
     },
     "execution_count": 22,
     "metadata": {},
     "output_type": "execute_result"
    }
   ],
   "source": [
    "{\n",
    "  # the _toMime attribute signals to the kernel how to display this value\n",
    "  _toMime = {\n",
    "    # for binary data like images, it must be a base64 encoded string\n",
    "    \"image/png\" = \"iVBORw0KGgoAAAANSUhEUgAAAAgAAAAIAQMAAAD+wSzIAAAABlBMVEX///+/v7+jQ3Y5AAAADklEQVQI12P4AIX8EAgALgAD/aNpbtEAAAAASUVORK5CYII=\";\n",
    "    \n",
    "    # it's good practice to include a text/plain fallback\n",
    "    \"text/plain\" = \"A tiny 8x8 red and gray PNG image.\";\n",
    "  };\n",
    "}"
   ]
  },
  {
   "cell_type": "markdown",
   "id": "errors-markdown",
   "metadata": {},
   "source": [
    "## 8. error handling\n",
    "\n",
    "the kernel correctly catches and shows different errors from parsing and evaluation."
   ]
  },
  {
   "cell_type": "code",
   "execution_count": 23,
   "id": "db199b92-d20d-4441-9d1b-81e83fd3fc28",
   "metadata": {},
   "outputs": [
    {
     "name": "stdout",
     "output_type": "stream",
     "text": [
      "\u001b[35;1m\"valid expression before an error\"\u001b[0m\n"
     ]
    },
    {
     "ename": "UndefinedVarError",
     "evalue": "\u001b[31;1merror:\u001b[0m undefined variable '\u001b[35;1my\u001b[0m'\n       \u001b[34;1mat \u001b[35;1m«string»:1:15\u001b[0m:\n            1| let x = 1; in y\n             |               \u001b[31;1m^\u001b[0m\n            2|",
     "output_type": "error",
     "traceback": [
      "\u001b[31;1merror:\u001b[0m undefined variable '\u001b[35;1my\u001b[0m'\n       \u001b[34;1mat \u001b[35;1m«string»:1:15\u001b[0m:\n            1| let x = 1; in y\n             |               \u001b[31;1m^\u001b[0m\n            2|"
     ]
    }
   ],
   "source": [
    "# an undefined variable error\n",
    "\"valid expression before an error\"\n",
    "let x = 1; in y"
   ]
  },
  {
   "cell_type": "code",
   "execution_count": null,
   "id": "4960b555-46f8-47b6-994b-b37fa8dd9744",
   "metadata": {},
   "outputs": [],
   "source": [
    "# a syntax error\n",
    "let x = ; in x"
   ]
  },
  {
   "cell_type": "code",
   "execution_count": null,
   "id": "0d4a20dc-5477-4090-acab-d8ae49eea2f3",
   "metadata": {},
   "outputs": [],
   "source": [
    "# an evaluation error (missing attribute)\n",
    "pkgs.lib.nonExistentAttribute"
   ]
  },
  {
   "cell_type": "code",
   "execution_count": null,
   "id": "e2e011d2-6d83-4553-bbc5-19f5fe240e8d",
   "metadata": {},
   "outputs": [],
   "source": [
    "# an incomplete multiline string parse error\n",
    "'''\n",
    "amogus"
   ]
  }
 ],
 "metadata": {
  "kernelspec": {
   "display_name": "Nix (Lix)",
   "language": "nix",
   "name": "lix"
  },
  "language_info": {
   "codemirror_mode": "",
   "file_extension": ".nix",
   "mimetype": "text/x-nix",
   "name": "nix",
   "nbconvert_exporter": "",
   "pygments_lexer": "",
   "version": "2.94.0-devpre20250712_ae00b12"
  }
 },
 "nbformat": 4,
 "nbformat_minor": 5
}
